{
 "cells": [
  {
   "cell_type": "code",
   "execution_count": 90,
   "id": "1c6631f4",
   "metadata": {},
   "outputs": [],
   "source": [
    "import json\n",
    "from datetime import datetime\n",
    "import pandas as pd\n",
    "import tweepy\n",
    "from twython import Twython\n",
    "import sys\n",
    "import warnings\n",
    "\n",
    "if not sys.warnoptions:\n",
    "    warnings.simplefilter(\"ignore\")\n"
   ]
  },
  {
   "cell_type": "code",
   "execution_count": 101,
   "id": "f49ba11b",
   "metadata": {},
   "outputs": [],
   "source": [
    "CONSUMER_KEY =x\n",
    "CONSUMER_SECRET =y\n",
    "OAUTH_TOKEN =z\n",
    "OAUTH_TOKEN_SECRET =a"
   ]
  },
  {
   "cell_type": "code",
   "execution_count": 102,
   "id": "1e1ee8ce",
   "metadata": {},
   "outputs": [],
   "source": [
    "auth = tweepy.OAuthHandler(CONSUMER_KEY, CONSUMER_SECRET)\n",
    "auth.set_access_token(OAUTH_TOKEN, OAUTH_TOKEN_SECRET)\n",
    "api = tweepy.API(auth)"
   ]
  },
  {
   "cell_type": "code",
   "execution_count": 103,
   "id": "303dbb97",
   "metadata": {},
   "outputs": [],
   "source": [
    "data2=pd.read_csv(r\"D:\\Youtube_video\\Twitter_analysis\\video2\\tweet_id.csv\")"
   ]
  },
  {
   "cell_type": "code",
   "execution_count": 104,
   "id": "806ce34f",
   "metadata": {},
   "outputs": [
    {
     "data": {
      "text/html": [
       "<div>\n",
       "<style scoped>\n",
       "    .dataframe tbody tr th:only-of-type {\n",
       "        vertical-align: middle;\n",
       "    }\n",
       "\n",
       "    .dataframe tbody tr th {\n",
       "        vertical-align: top;\n",
       "    }\n",
       "\n",
       "    .dataframe thead th {\n",
       "        text-align: right;\n",
       "    }\n",
       "</style>\n",
       "<table border=\"1\" class=\"dataframe\">\n",
       "  <thead>\n",
       "    <tr style=\"text-align: right;\">\n",
       "      <th></th>\n",
       "      <th>Unnamed: 0</th>\n",
       "      <th>tweet_id</th>\n",
       "    </tr>\n",
       "  </thead>\n",
       "  <tbody>\n",
       "    <tr>\n",
       "      <th>0</th>\n",
       "      <td>0</td>\n",
       "      <td>1052183746344960000</td>\n",
       "    </tr>\n",
       "    <tr>\n",
       "      <th>1</th>\n",
       "      <td>1</td>\n",
       "      <td>1051828399709270016</td>\n",
       "    </tr>\n",
       "    <tr>\n",
       "      <th>2</th>\n",
       "      <td>2</td>\n",
       "      <td>1051671723647660032</td>\n",
       "    </tr>\n",
       "    <tr>\n",
       "      <th>3</th>\n",
       "      <td>3</td>\n",
       "      <td>1051334879273730048</td>\n",
       "    </tr>\n",
       "    <tr>\n",
       "      <th>4</th>\n",
       "      <td>4</td>\n",
       "      <td>1051254818893910016</td>\n",
       "    </tr>\n",
       "  </tbody>\n",
       "</table>\n",
       "</div>"
      ],
      "text/plain": [
       "   Unnamed: 0             tweet_id\n",
       "0           0  1052183746344960000\n",
       "1           1  1051828399709270016\n",
       "2           2  1051671723647660032\n",
       "3           3  1051334879273730048\n",
       "4           4  1051254818893910016"
      ]
     },
     "execution_count": 104,
     "metadata": {},
     "output_type": "execute_result"
    }
   ],
   "source": [
    "data2.head()"
   ]
  },
  {
   "cell_type": "code",
   "execution_count": 105,
   "id": "00cf5d18",
   "metadata": {
    "scrolled": true
   },
   "outputs": [
    {
     "name": "stdout",
     "output_type": "stream",
     "text": [
      "<class 'pandas.core.frame.DataFrame'>\n",
      "RangeIndex: 34 entries, 0 to 33\n",
      "Data columns (total 2 columns):\n",
      " #   Column      Non-Null Count  Dtype\n",
      "---  ------      --------------  -----\n",
      " 0   Unnamed: 0  34 non-null     int64\n",
      " 1   tweet_id    34 non-null     int64\n",
      "dtypes: int64(2)\n",
      "memory usage: 672.0 bytes\n"
     ]
    }
   ],
   "source": [
    "data2.info()"
   ]
  },
  {
   "cell_type": "code",
   "execution_count": 106,
   "id": "50619396",
   "metadata": {},
   "outputs": [],
   "source": [
    "tweet_idframefinal=pd.DataFrame(columns={\"tweet_id\",\"timestamp\",\"user_id\",\"user_name\",\"tweet_text\"})"
   ]
  },
  {
   "cell_type": "code",
   "execution_count": 107,
   "id": "134c7129",
   "metadata": {
    "scrolled": true
   },
   "outputs": [],
   "source": [
    "#adding user_id to the dataframe , if you want to perform on the whole dataset just replace data1 with data\n",
    "timestamp=[]\n",
    "unwanted_tweetid=[]\n",
    "tweet_id=[]\n",
    "user_id=[]\n",
    "user_name=[]\n",
    "tweet_text=[]\n",
    "for i in data2.tweet_id:\n",
    "    auth = tweepy.OAuthHandler(CONSUMER_KEY, CONSUMER_SECRET)\n",
    "    auth.set_access_token(OAUTH_TOKEN, OAUTH_TOKEN_SECRET)\n",
    "    api = tweepy.API(auth)\n",
    "    try:\n",
    "        \n",
    "    #tweet = twitter.show_status(id=i)\n",
    "        tweet = api.get_status(i)\n",
    "        timestamp1=tweet.created_at\n",
    "        timestamp.append(timestamp1)\n",
    "        user_id1=tweet.user.id\n",
    "        user_id.append(user_id1)\n",
    "        user_name1=tweet.user.screen_name\n",
    "        user_name.append(user_name1)\n",
    "        tweet_text1=tweet.text\n",
    "        tweet_text.append(tweet_text1)\n",
    "        tweet_idframefinal.loc[len(tweet_idframefinal.index)] = [i,timestamp1,user_id1,user_name1,tweet_text]\n",
    "    except:\n",
    "        print(\"Failed to run the command on that user, Skipping...\",i)\n",
    "        unwanted_tweetid.append(i)\n",
    "    \n",
    "    "
   ]
  },
  {
   "cell_type": "code",
   "execution_count": 108,
   "id": "44cf7c89",
   "metadata": {},
   "outputs": [],
   "source": [
    "tweet_idframefinal.columns=['tweet_id', 'timestamp', 'user_id', 'user_name','tweet_text']"
   ]
  },
  {
   "cell_type": "code",
   "execution_count": 109,
   "id": "c4105232",
   "metadata": {
    "scrolled": true
   },
   "outputs": [
    {
     "data": {
      "text/html": [
       "<div>\n",
       "<style scoped>\n",
       "    .dataframe tbody tr th:only-of-type {\n",
       "        vertical-align: middle;\n",
       "    }\n",
       "\n",
       "    .dataframe tbody tr th {\n",
       "        vertical-align: top;\n",
       "    }\n",
       "\n",
       "    .dataframe thead th {\n",
       "        text-align: right;\n",
       "    }\n",
       "</style>\n",
       "<table border=\"1\" class=\"dataframe\">\n",
       "  <thead>\n",
       "    <tr style=\"text-align: right;\">\n",
       "      <th></th>\n",
       "      <th>tweet_id</th>\n",
       "      <th>timestamp</th>\n",
       "      <th>user_id</th>\n",
       "      <th>user_name</th>\n",
       "      <th>tweet_text</th>\n",
       "    </tr>\n",
       "  </thead>\n",
       "  <tbody>\n",
       "    <tr>\n",
       "      <th>0</th>\n",
       "      <td>1052183746344960000</td>\n",
       "      <td>2018-10-16 13:05:28+00:00</td>\n",
       "      <td>56337026</td>\n",
       "      <td>vvcvikas</td>\n",
       "      <td>[Mother Nature’s #MeToo https://t.co/nN3hbEHz8...</td>\n",
       "    </tr>\n",
       "    <tr>\n",
       "      <th>1</th>\n",
       "      <td>1051828399709270016</td>\n",
       "      <td>2018-10-15 13:33:27+00:00</td>\n",
       "      <td>1888457059</td>\n",
       "      <td>welllengton2015</td>\n",
       "      <td>[Mother Nature’s #MeToo https://t.co/nN3hbEHz8...</td>\n",
       "    </tr>\n",
       "    <tr>\n",
       "      <th>2</th>\n",
       "      <td>1051671723647660032</td>\n",
       "      <td>2018-10-15 03:10:52+00:00</td>\n",
       "      <td>156398515</td>\n",
       "      <td>shelterhat</td>\n",
       "      <td>[Mother Nature’s #MeToo https://t.co/nN3hbEHz8...</td>\n",
       "    </tr>\n",
       "    <tr>\n",
       "      <th>3</th>\n",
       "      <td>1051334879273730048</td>\n",
       "      <td>2018-10-14 04:52:22+00:00</td>\n",
       "      <td>289118612</td>\n",
       "      <td>TomthunkitsMind</td>\n",
       "      <td>[Mother Nature’s #MeToo https://t.co/nN3hbEHz8...</td>\n",
       "    </tr>\n",
       "    <tr>\n",
       "      <th>4</th>\n",
       "      <td>1051254818893910016</td>\n",
       "      <td>2018-10-13 23:34:14+00:00</td>\n",
       "      <td>74945157</td>\n",
       "      <td>CDNnow</td>\n",
       "      <td>[Mother Nature’s #MeToo https://t.co/nN3hbEHz8...</td>\n",
       "    </tr>\n",
       "  </tbody>\n",
       "</table>\n",
       "</div>"
      ],
      "text/plain": [
       "              tweet_id                 timestamp     user_id        user_name  \\\n",
       "0  1052183746344960000 2018-10-16 13:05:28+00:00    56337026         vvcvikas   \n",
       "1  1051828399709270016 2018-10-15 13:33:27+00:00  1888457059  welllengton2015   \n",
       "2  1051671723647660032 2018-10-15 03:10:52+00:00   156398515       shelterhat   \n",
       "3  1051334879273730048 2018-10-14 04:52:22+00:00   289118612  TomthunkitsMind   \n",
       "4  1051254818893910016 2018-10-13 23:34:14+00:00    74945157           CDNnow   \n",
       "\n",
       "                                          tweet_text  \n",
       "0  [Mother Nature’s #MeToo https://t.co/nN3hbEHz8...  \n",
       "1  [Mother Nature’s #MeToo https://t.co/nN3hbEHz8...  \n",
       "2  [Mother Nature’s #MeToo https://t.co/nN3hbEHz8...  \n",
       "3  [Mother Nature’s #MeToo https://t.co/nN3hbEHz8...  \n",
       "4  [Mother Nature’s #MeToo https://t.co/nN3hbEHz8...  "
      ]
     },
     "execution_count": 109,
     "metadata": {},
     "output_type": "execute_result"
    }
   ],
   "source": [
    "tweet_idframefinal.head()"
   ]
  },
  {
   "cell_type": "code",
   "execution_count": 78,
   "id": "4f9186cc",
   "metadata": {},
   "outputs": [],
   "source": [
    "data2=data2.head(5)"
   ]
  },
  {
   "cell_type": "code",
   "execution_count": 79,
   "id": "b643cb57",
   "metadata": {},
   "outputs": [
    {
     "name": "stdout",
     "output_type": "stream",
     "text": [
      "Status(_api=<tweepy.api.API object at 0x0000003F82E0E4F0>, _json={'created_at': 'Tue Oct 16 13:05:28 +0000 2018', 'id': 1052183746344960000, 'id_str': '1052183746344960000', 'text': 'Mother Nature’s #MeToo https://t.co/nN3hbEHz85', 'truncated': False, 'entities': {'hashtags': [{'text': 'MeToo', 'indices': [16, 22]}], 'symbols': [], 'user_mentions': [], 'urls': [], 'media': [{'id': 1052183737859956736, 'id_str': '1052183737859956736', 'indices': [23, 46], 'media_url': 'http://pbs.twimg.com/media/DpobiO2V4AAv1_k.jpg', 'media_url_https': 'https://pbs.twimg.com/media/DpobiO2V4AAv1_k.jpg', 'url': 'https://t.co/nN3hbEHz85', 'display_url': 'pic.twitter.com/nN3hbEHz85', 'expanded_url': 'https://twitter.com/vvcvikas/status/1052183746344960000/photo/1', 'type': 'photo', 'sizes': {'thumb': {'w': 150, 'h': 150, 'resize': 'crop'}, 'small': {'w': 453, 'h': 507, 'resize': 'fit'}, 'large': {'w': 453, 'h': 507, 'resize': 'fit'}, 'medium': {'w': 453, 'h': 507, 'resize': 'fit'}}}]}, 'extended_entities': {'media': [{'id': 1052183737859956736, 'id_str': '1052183737859956736', 'indices': [23, 46], 'media_url': 'http://pbs.twimg.com/media/DpobiO2V4AAv1_k.jpg', 'media_url_https': 'https://pbs.twimg.com/media/DpobiO2V4AAv1_k.jpg', 'url': 'https://t.co/nN3hbEHz85', 'display_url': 'pic.twitter.com/nN3hbEHz85', 'expanded_url': 'https://twitter.com/vvcvikas/status/1052183746344960000/photo/1', 'type': 'photo', 'sizes': {'thumb': {'w': 150, 'h': 150, 'resize': 'crop'}, 'small': {'w': 453, 'h': 507, 'resize': 'fit'}, 'large': {'w': 453, 'h': 507, 'resize': 'fit'}, 'medium': {'w': 453, 'h': 507, 'resize': 'fit'}}}]}, 'source': '<a href=\"http://twitter.com/download/iphone\" rel=\"nofollow\">Twitter for iPhone</a>', 'in_reply_to_status_id': None, 'in_reply_to_status_id_str': None, 'in_reply_to_user_id': None, 'in_reply_to_user_id_str': None, 'in_reply_to_screen_name': None, 'user': {'id': 56337026, 'id_str': '56337026', 'name': 'Vikas Vinnakota', 'screen_name': 'vvcvikas', 'location': 'Sydney, New South Wales', 'description': '', 'url': None, 'entities': {'description': {'urls': []}}, 'protected': False, 'followers_count': 41, 'friends_count': 266, 'listed_count': 0, 'created_at': 'Mon Jul 13 10:09:16 +0000 2009', 'favourites_count': 1, 'utc_offset': None, 'time_zone': None, 'geo_enabled': False, 'verified': False, 'statuses_count': 10, 'lang': None, 'contributors_enabled': False, 'is_translator': False, 'is_translation_enabled': False, 'profile_background_color': 'C0DEED', 'profile_background_image_url': 'http://abs.twimg.com/images/themes/theme1/bg.png', 'profile_background_image_url_https': 'https://abs.twimg.com/images/themes/theme1/bg.png', 'profile_background_tile': False, 'profile_image_url': 'http://pbs.twimg.com/profile_images/581117265128525824/11zt_oY2_normal.jpg', 'profile_image_url_https': 'https://pbs.twimg.com/profile_images/581117265128525824/11zt_oY2_normal.jpg', 'profile_banner_url': 'https://pbs.twimg.com/profile_banners/56337026/1542861646', 'profile_link_color': '1DA1F2', 'profile_sidebar_border_color': 'C0DEED', 'profile_sidebar_fill_color': 'DDEEF6', 'profile_text_color': '333333', 'profile_use_background_image': True, 'has_extended_profile': True, 'default_profile': True, 'default_profile_image': False, 'following': False, 'follow_request_sent': False, 'notifications': False, 'translator_type': 'none', 'withheld_in_countries': []}, 'geo': None, 'coordinates': None, 'place': None, 'contributors': None, 'is_quote_status': False, 'retweet_count': 0, 'favorite_count': 1, 'favorited': False, 'retweeted': False, 'possibly_sensitive': False, 'possibly_sensitive_appealable': False, 'lang': 'en'}, created_at=datetime.datetime(2018, 10, 16, 13, 5, 28, tzinfo=datetime.timezone.utc), id=1052183746344960000, id_str='1052183746344960000', text='Mother Nature’s #MeToo https://t.co/nN3hbEHz85', truncated=False, entities={'hashtags': [{'text': 'MeToo', 'indices': [16, 22]}], 'symbols': [], 'user_mentions': [], 'urls': [], 'media': [{'id': 1052183737859956736, 'id_str': '1052183737859956736', 'indices': [23, 46], 'media_url': 'http://pbs.twimg.com/media/DpobiO2V4AAv1_k.jpg', 'media_url_https': 'https://pbs.twimg.com/media/DpobiO2V4AAv1_k.jpg', 'url': 'https://t.co/nN3hbEHz85', 'display_url': 'pic.twitter.com/nN3hbEHz85', 'expanded_url': 'https://twitter.com/vvcvikas/status/1052183746344960000/photo/1', 'type': 'photo', 'sizes': {'thumb': {'w': 150, 'h': 150, 'resize': 'crop'}, 'small': {'w': 453, 'h': 507, 'resize': 'fit'}, 'large': {'w': 453, 'h': 507, 'resize': 'fit'}, 'medium': {'w': 453, 'h': 507, 'resize': 'fit'}}}]}, extended_entities={'media': [{'id': 1052183737859956736, 'id_str': '1052183737859956736', 'indices': [23, 46], 'media_url': 'http://pbs.twimg.com/media/DpobiO2V4AAv1_k.jpg', 'media_url_https': 'https://pbs.twimg.com/media/DpobiO2V4AAv1_k.jpg', 'url': 'https://t.co/nN3hbEHz85', 'display_url': 'pic.twitter.com/nN3hbEHz85', 'expanded_url': 'https://twitter.com/vvcvikas/status/1052183746344960000/photo/1', 'type': 'photo', 'sizes': {'thumb': {'w': 150, 'h': 150, 'resize': 'crop'}, 'small': {'w': 453, 'h': 507, 'resize': 'fit'}, 'large': {'w': 453, 'h': 507, 'resize': 'fit'}, 'medium': {'w': 453, 'h': 507, 'resize': 'fit'}}}]}, source='Twitter for iPhone', source_url='http://twitter.com/download/iphone', in_reply_to_status_id=None, in_reply_to_status_id_str=None, in_reply_to_user_id=None, in_reply_to_user_id_str=None, in_reply_to_screen_name=None, author=User(_api=<tweepy.api.API object at 0x0000003F82E0E4F0>, _json={'id': 56337026, 'id_str': '56337026', 'name': 'Vikas Vinnakota', 'screen_name': 'vvcvikas', 'location': 'Sydney, New South Wales', 'description': '', 'url': None, 'entities': {'description': {'urls': []}}, 'protected': False, 'followers_count': 41, 'friends_count': 266, 'listed_count': 0, 'created_at': 'Mon Jul 13 10:09:16 +0000 2009', 'favourites_count': 1, 'utc_offset': None, 'time_zone': None, 'geo_enabled': False, 'verified': False, 'statuses_count': 10, 'lang': None, 'contributors_enabled': False, 'is_translator': False, 'is_translation_enabled': False, 'profile_background_color': 'C0DEED', 'profile_background_image_url': 'http://abs.twimg.com/images/themes/theme1/bg.png', 'profile_background_image_url_https': 'https://abs.twimg.com/images/themes/theme1/bg.png', 'profile_background_tile': False, 'profile_image_url': 'http://pbs.twimg.com/profile_images/581117265128525824/11zt_oY2_normal.jpg', 'profile_image_url_https': 'https://pbs.twimg.com/profile_images/581117265128525824/11zt_oY2_normal.jpg', 'profile_banner_url': 'https://pbs.twimg.com/profile_banners/56337026/1542861646', 'profile_link_color': '1DA1F2', 'profile_sidebar_border_color': 'C0DEED', 'profile_sidebar_fill_color': 'DDEEF6', 'profile_text_color': '333333', 'profile_use_background_image': True, 'has_extended_profile': True, 'default_profile': True, 'default_profile_image': False, 'following': False, 'follow_request_sent': False, 'notifications': False, 'translator_type': 'none', 'withheld_in_countries': []}, id=56337026, id_str='56337026', name='Vikas Vinnakota', screen_name='vvcvikas', location='Sydney, New South Wales', description='', url=None, entities={'description': {'urls': []}}, protected=False, followers_count=41, friends_count=266, listed_count=0, created_at=datetime.datetime(2009, 7, 13, 10, 9, 16, tzinfo=datetime.timezone.utc), favourites_count=1, utc_offset=None, time_zone=None, geo_enabled=False, verified=False, statuses_count=10, lang=None, contributors_enabled=False, is_translator=False, is_translation_enabled=False, profile_background_color='C0DEED', profile_background_image_url='http://abs.twimg.com/images/themes/theme1/bg.png', profile_background_image_url_https='https://abs.twimg.com/images/themes/theme1/bg.png', profile_background_tile=False, profile_image_url='http://pbs.twimg.com/profile_images/581117265128525824/11zt_oY2_normal.jpg', profile_image_url_https='https://pbs.twimg.com/profile_images/581117265128525824/11zt_oY2_normal.jpg', profile_banner_url='https://pbs.twimg.com/profile_banners/56337026/1542861646', profile_link_color='1DA1F2', profile_sidebar_border_color='C0DEED', profile_sidebar_fill_color='DDEEF6', profile_text_color='333333', profile_use_background_image=True, has_extended_profile=True, default_profile=True, default_profile_image=False, following=False, follow_request_sent=False, notifications=False, translator_type='none', withheld_in_countries=[]), user=User(_api=<tweepy.api.API object at 0x0000003F82E0E4F0>, _json={'id': 56337026, 'id_str': '56337026', 'name': 'Vikas Vinnakota', 'screen_name': 'vvcvikas', 'location': 'Sydney, New South Wales', 'description': '', 'url': None, 'entities': {'description': {'urls': []}}, 'protected': False, 'followers_count': 41, 'friends_count': 266, 'listed_count': 0, 'created_at': 'Mon Jul 13 10:09:16 +0000 2009', 'favourites_count': 1, 'utc_offset': None, 'time_zone': None, 'geo_enabled': False, 'verified': False, 'statuses_count': 10, 'lang': None, 'contributors_enabled': False, 'is_translator': False, 'is_translation_enabled': False, 'profile_background_color': 'C0DEED', 'profile_background_image_url': 'http://abs.twimg.com/images/themes/theme1/bg.png', 'profile_background_image_url_https': 'https://abs.twimg.com/images/themes/theme1/bg.png', 'profile_background_tile': False, 'profile_image_url': 'http://pbs.twimg.com/profile_images/581117265128525824/11zt_oY2_normal.jpg', 'profile_image_url_https': 'https://pbs.twimg.com/profile_images/581117265128525824/11zt_oY2_normal.jpg', 'profile_banner_url': 'https://pbs.twimg.com/profile_banners/56337026/1542861646', 'profile_link_color': '1DA1F2', 'profile_sidebar_border_color': 'C0DEED', 'profile_sidebar_fill_color': 'DDEEF6', 'profile_text_color': '333333', 'profile_use_background_image': True, 'has_extended_profile': True, 'default_profile': True, 'default_profile_image': False, 'following': False, 'follow_request_sent': False, 'notifications': False, 'translator_type': 'none', 'withheld_in_countries': []}, id=56337026, id_str='56337026', name='Vikas Vinnakota', screen_name='vvcvikas', location='Sydney, New South Wales', description='', url=None, entities={'description': {'urls': []}}, protected=False, followers_count=41, friends_count=266, listed_count=0, created_at=datetime.datetime(2009, 7, 13, 10, 9, 16, tzinfo=datetime.timezone.utc), favourites_count=1, utc_offset=None, time_zone=None, geo_enabled=False, verified=False, statuses_count=10, lang=None, contributors_enabled=False, is_translator=False, is_translation_enabled=False, profile_background_color='C0DEED', profile_background_image_url='http://abs.twimg.com/images/themes/theme1/bg.png', profile_background_image_url_https='https://abs.twimg.com/images/themes/theme1/bg.png', profile_background_tile=False, profile_image_url='http://pbs.twimg.com/profile_images/581117265128525824/11zt_oY2_normal.jpg', profile_image_url_https='https://pbs.twimg.com/profile_images/581117265128525824/11zt_oY2_normal.jpg', profile_banner_url='https://pbs.twimg.com/profile_banners/56337026/1542861646', profile_link_color='1DA1F2', profile_sidebar_border_color='C0DEED', profile_sidebar_fill_color='DDEEF6', profile_text_color='333333', profile_use_background_image=True, has_extended_profile=True, default_profile=True, default_profile_image=False, following=False, follow_request_sent=False, notifications=False, translator_type='none', withheld_in_countries=[]), geo=None, coordinates=None, place=None, contributors=None, is_quote_status=False, retweet_count=0, favorite_count=1, favorited=False, retweeted=False, possibly_sensitive=False, possibly_sensitive_appealable=False, lang='en')\n",
      "Status(_api=<tweepy.api.API object at 0x0000003F82C11D60>, _json={'created_at': 'Mon Oct 15 13:33:27 +0000 2018', 'id': 1051828399709270016, 'id_str': '1051828399709270016', 'text': 'Tmj presidente Bolsonaro 17 agora é sempre https://t.co/B2FHlh6Pjt', 'truncated': False, 'entities': {'hashtags': [], 'symbols': [], 'user_mentions': [], 'urls': [], 'media': [{'id': 1051828309691179010, 'id_str': '1051828309691179010', 'indices': [43, 66], 'media_url': 'http://pbs.twimg.com/media/DpjYRlvXoAIMpVu.jpg', 'media_url_https': 'https://pbs.twimg.com/media/DpjYRlvXoAIMpVu.jpg', 'url': 'https://t.co/B2FHlh6Pjt', 'display_url': 'pic.twitter.com/B2FHlh6Pjt', 'expanded_url': 'https://twitter.com/welllengton2015/status/1051828399709270016/photo/1', 'type': 'photo', 'sizes': {'thumb': {'w': 150, 'h': 150, 'resize': 'crop'}, 'large': {'w': 2048, 'h': 2048, 'resize': 'fit'}, 'small': {'w': 680, 'h': 680, 'resize': 'fit'}, 'medium': {'w': 1200, 'h': 1200, 'resize': 'fit'}}}]}, 'extended_entities': {'media': [{'id': 1051828309691179010, 'id_str': '1051828309691179010', 'indices': [43, 66], 'media_url': 'http://pbs.twimg.com/media/DpjYRlvXoAIMpVu.jpg', 'media_url_https': 'https://pbs.twimg.com/media/DpjYRlvXoAIMpVu.jpg', 'url': 'https://t.co/B2FHlh6Pjt', 'display_url': 'pic.twitter.com/B2FHlh6Pjt', 'expanded_url': 'https://twitter.com/welllengton2015/status/1051828399709270016/photo/1', 'type': 'photo', 'sizes': {'thumb': {'w': 150, 'h': 150, 'resize': 'crop'}, 'large': {'w': 2048, 'h': 2048, 'resize': 'fit'}, 'small': {'w': 680, 'h': 680, 'resize': 'fit'}, 'medium': {'w': 1200, 'h': 1200, 'resize': 'fit'}}}]}, 'source': '<a href=\"http://twitter.com/download/android\" rel=\"nofollow\">Twitter for Android</a>', 'in_reply_to_status_id': None, 'in_reply_to_status_id_str': None, 'in_reply_to_user_id': None, 'in_reply_to_user_id_str': None, 'in_reply_to_screen_name': None, 'user': {'id': 1888457059, 'id_str': '1888457059', 'name': 'WELLINGTON DA SILVA FERREIRA', 'screen_name': 'welllengton2015', 'location': 'Maceió, Brasil', 'description': '', 'url': None, 'entities': {'description': {'urls': []}}, 'protected': False, 'followers_count': 153, 'friends_count': 863, 'listed_count': 0, 'created_at': 'Sat Sep 21 01:33:43 +0000 2013', 'favourites_count': 135, 'utc_offset': None, 'time_zone': None, 'geo_enabled': True, 'verified': False, 'statuses_count': 403, 'lang': None, 'contributors_enabled': False, 'is_translator': False, 'is_translation_enabled': False, 'profile_background_color': 'EBD912', 'profile_background_image_url': 'http://abs.twimg.com/images/themes/theme1/bg.png', 'profile_background_image_url_https': 'https://abs.twimg.com/images/themes/theme1/bg.png', 'profile_background_tile': True, 'profile_image_url': 'http://pbs.twimg.com/profile_images/1383137599720714246/wwgcfcvG_normal.jpg', 'profile_image_url_https': 'https://pbs.twimg.com/profile_images/1383137599720714246/wwgcfcvG_normal.jpg', 'profile_banner_url': 'https://pbs.twimg.com/profile_banners/1888457059/1536357346', 'profile_link_color': 'C710AB', 'profile_sidebar_border_color': '000000', 'profile_sidebar_fill_color': 'DDEEF6', 'profile_text_color': '333333', 'profile_use_background_image': True, 'has_extended_profile': True, 'default_profile': False, 'default_profile_image': False, 'following': False, 'follow_request_sent': False, 'notifications': False, 'translator_type': 'none', 'withheld_in_countries': []}, 'geo': None, 'coordinates': None, 'place': None, 'contributors': None, 'is_quote_status': False, 'retweet_count': 0, 'favorite_count': 0, 'favorited': False, 'retweeted': False, 'possibly_sensitive': False, 'possibly_sensitive_appealable': False, 'lang': 'pt'}, created_at=datetime.datetime(2018, 10, 15, 13, 33, 27, tzinfo=datetime.timezone.utc), id=1051828399709270016, id_str='1051828399709270016', text='Tmj presidente Bolsonaro 17 agora é sempre https://t.co/B2FHlh6Pjt', truncated=False, entities={'hashtags': [], 'symbols': [], 'user_mentions': [], 'urls': [], 'media': [{'id': 1051828309691179010, 'id_str': '1051828309691179010', 'indices': [43, 66], 'media_url': 'http://pbs.twimg.com/media/DpjYRlvXoAIMpVu.jpg', 'media_url_https': 'https://pbs.twimg.com/media/DpjYRlvXoAIMpVu.jpg', 'url': 'https://t.co/B2FHlh6Pjt', 'display_url': 'pic.twitter.com/B2FHlh6Pjt', 'expanded_url': 'https://twitter.com/welllengton2015/status/1051828399709270016/photo/1', 'type': 'photo', 'sizes': {'thumb': {'w': 150, 'h': 150, 'resize': 'crop'}, 'large': {'w': 2048, 'h': 2048, 'resize': 'fit'}, 'small': {'w': 680, 'h': 680, 'resize': 'fit'}, 'medium': {'w': 1200, 'h': 1200, 'resize': 'fit'}}}]}, extended_entities={'media': [{'id': 1051828309691179010, 'id_str': '1051828309691179010', 'indices': [43, 66], 'media_url': 'http://pbs.twimg.com/media/DpjYRlvXoAIMpVu.jpg', 'media_url_https': 'https://pbs.twimg.com/media/DpjYRlvXoAIMpVu.jpg', 'url': 'https://t.co/B2FHlh6Pjt', 'display_url': 'pic.twitter.com/B2FHlh6Pjt', 'expanded_url': 'https://twitter.com/welllengton2015/status/1051828399709270016/photo/1', 'type': 'photo', 'sizes': {'thumb': {'w': 150, 'h': 150, 'resize': 'crop'}, 'large': {'w': 2048, 'h': 2048, 'resize': 'fit'}, 'small': {'w': 680, 'h': 680, 'resize': 'fit'}, 'medium': {'w': 1200, 'h': 1200, 'resize': 'fit'}}}]}, source='Twitter for Android', source_url='http://twitter.com/download/android', in_reply_to_status_id=None, in_reply_to_status_id_str=None, in_reply_to_user_id=None, in_reply_to_user_id_str=None, in_reply_to_screen_name=None, author=User(_api=<tweepy.api.API object at 0x0000003F82C11D60>, _json={'id': 1888457059, 'id_str': '1888457059', 'name': 'WELLINGTON DA SILVA FERREIRA', 'screen_name': 'welllengton2015', 'location': 'Maceió, Brasil', 'description': '', 'url': None, 'entities': {'description': {'urls': []}}, 'protected': False, 'followers_count': 153, 'friends_count': 863, 'listed_count': 0, 'created_at': 'Sat Sep 21 01:33:43 +0000 2013', 'favourites_count': 135, 'utc_offset': None, 'time_zone': None, 'geo_enabled': True, 'verified': False, 'statuses_count': 403, 'lang': None, 'contributors_enabled': False, 'is_translator': False, 'is_translation_enabled': False, 'profile_background_color': 'EBD912', 'profile_background_image_url': 'http://abs.twimg.com/images/themes/theme1/bg.png', 'profile_background_image_url_https': 'https://abs.twimg.com/images/themes/theme1/bg.png', 'profile_background_tile': True, 'profile_image_url': 'http://pbs.twimg.com/profile_images/1383137599720714246/wwgcfcvG_normal.jpg', 'profile_image_url_https': 'https://pbs.twimg.com/profile_images/1383137599720714246/wwgcfcvG_normal.jpg', 'profile_banner_url': 'https://pbs.twimg.com/profile_banners/1888457059/1536357346', 'profile_link_color': 'C710AB', 'profile_sidebar_border_color': '000000', 'profile_sidebar_fill_color': 'DDEEF6', 'profile_text_color': '333333', 'profile_use_background_image': True, 'has_extended_profile': True, 'default_profile': False, 'default_profile_image': False, 'following': False, 'follow_request_sent': False, 'notifications': False, 'translator_type': 'none', 'withheld_in_countries': []}, id=1888457059, id_str='1888457059', name='WELLINGTON DA SILVA FERREIRA', screen_name='welllengton2015', location='Maceió, Brasil', description='', url=None, entities={'description': {'urls': []}}, protected=False, followers_count=153, friends_count=863, listed_count=0, created_at=datetime.datetime(2013, 9, 21, 1, 33, 43, tzinfo=datetime.timezone.utc), favourites_count=135, utc_offset=None, time_zone=None, geo_enabled=True, verified=False, statuses_count=403, lang=None, contributors_enabled=False, is_translator=False, is_translation_enabled=False, profile_background_color='EBD912', profile_background_image_url='http://abs.twimg.com/images/themes/theme1/bg.png', profile_background_image_url_https='https://abs.twimg.com/images/themes/theme1/bg.png', profile_background_tile=True, profile_image_url='http://pbs.twimg.com/profile_images/1383137599720714246/wwgcfcvG_normal.jpg', profile_image_url_https='https://pbs.twimg.com/profile_images/1383137599720714246/wwgcfcvG_normal.jpg', profile_banner_url='https://pbs.twimg.com/profile_banners/1888457059/1536357346', profile_link_color='C710AB', profile_sidebar_border_color='000000', profile_sidebar_fill_color='DDEEF6', profile_text_color='333333', profile_use_background_image=True, has_extended_profile=True, default_profile=False, default_profile_image=False, following=False, follow_request_sent=False, notifications=False, translator_type='none', withheld_in_countries=[]), user=User(_api=<tweepy.api.API object at 0x0000003F82C11D60>, _json={'id': 1888457059, 'id_str': '1888457059', 'name': 'WELLINGTON DA SILVA FERREIRA', 'screen_name': 'welllengton2015', 'location': 'Maceió, Brasil', 'description': '', 'url': None, 'entities': {'description': {'urls': []}}, 'protected': False, 'followers_count': 153, 'friends_count': 863, 'listed_count': 0, 'created_at': 'Sat Sep 21 01:33:43 +0000 2013', 'favourites_count': 135, 'utc_offset': None, 'time_zone': None, 'geo_enabled': True, 'verified': False, 'statuses_count': 403, 'lang': None, 'contributors_enabled': False, 'is_translator': False, 'is_translation_enabled': False, 'profile_background_color': 'EBD912', 'profile_background_image_url': 'http://abs.twimg.com/images/themes/theme1/bg.png', 'profile_background_image_url_https': 'https://abs.twimg.com/images/themes/theme1/bg.png', 'profile_background_tile': True, 'profile_image_url': 'http://pbs.twimg.com/profile_images/1383137599720714246/wwgcfcvG_normal.jpg', 'profile_image_url_https': 'https://pbs.twimg.com/profile_images/1383137599720714246/wwgcfcvG_normal.jpg', 'profile_banner_url': 'https://pbs.twimg.com/profile_banners/1888457059/1536357346', 'profile_link_color': 'C710AB', 'profile_sidebar_border_color': '000000', 'profile_sidebar_fill_color': 'DDEEF6', 'profile_text_color': '333333', 'profile_use_background_image': True, 'has_extended_profile': True, 'default_profile': False, 'default_profile_image': False, 'following': False, 'follow_request_sent': False, 'notifications': False, 'translator_type': 'none', 'withheld_in_countries': []}, id=1888457059, id_str='1888457059', name='WELLINGTON DA SILVA FERREIRA', screen_name='welllengton2015', location='Maceió, Brasil', description='', url=None, entities={'description': {'urls': []}}, protected=False, followers_count=153, friends_count=863, listed_count=0, created_at=datetime.datetime(2013, 9, 21, 1, 33, 43, tzinfo=datetime.timezone.utc), favourites_count=135, utc_offset=None, time_zone=None, geo_enabled=True, verified=False, statuses_count=403, lang=None, contributors_enabled=False, is_translator=False, is_translation_enabled=False, profile_background_color='EBD912', profile_background_image_url='http://abs.twimg.com/images/themes/theme1/bg.png', profile_background_image_url_https='https://abs.twimg.com/images/themes/theme1/bg.png', profile_background_tile=True, profile_image_url='http://pbs.twimg.com/profile_images/1383137599720714246/wwgcfcvG_normal.jpg', profile_image_url_https='https://pbs.twimg.com/profile_images/1383137599720714246/wwgcfcvG_normal.jpg', profile_banner_url='https://pbs.twimg.com/profile_banners/1888457059/1536357346', profile_link_color='C710AB', profile_sidebar_border_color='000000', profile_sidebar_fill_color='DDEEF6', profile_text_color='333333', profile_use_background_image=True, has_extended_profile=True, default_profile=False, default_profile_image=False, following=False, follow_request_sent=False, notifications=False, translator_type='none', withheld_in_countries=[]), geo=None, coordinates=None, place=None, contributors=None, is_quote_status=False, retweet_count=0, favorite_count=0, favorited=False, retweeted=False, possibly_sensitive=False, possibly_sensitive_appealable=False, lang='pt')\n",
      "Status(_api=<tweepy.api.API object at 0x0000003F82E0E160>, _json={'created_at': 'Mon Oct 15 03:10:52 +0000 2018', 'id': 1051671723647660032, 'id_str': '1051671723647660032', 'text': '@FLOTUS &amp; @realDonaldTrump meh answers on their #marriage \\n#news #NationalDessertDay #Trump #Khashoggi… https://t.co/y6dAR6CXjp', 'truncated': True, 'entities': {'hashtags': [{'text': 'marriage', 'indices': [52, 61]}, {'text': 'news', 'indices': [63, 68]}, {'text': 'NationalDessertDay', 'indices': [69, 88]}, {'text': 'Trump', 'indices': [89, 95]}, {'text': 'Khashoggi', 'indices': [96, 106]}], 'symbols': [], 'user_mentions': [{'screen_name': 'FLOTUS', 'name': 'Jill Biden', 'id': 1349154719386775552, 'id_str': '1349154719386775552', 'indices': [0, 7]}, {'screen_name': 'realDonaldTrump', 'name': 'Donald J. Trump', 'id': 25073877, 'id_str': '25073877', 'indices': [14, 30]}], 'urls': [{'url': 'https://t.co/y6dAR6CXjp', 'expanded_url': 'https://twitter.com/i/web/status/1051671723647660032', 'display_url': 'twitter.com/i/web/status/1…', 'indices': [108, 131]}]}, 'source': '<a href=\"http://twitter.com/download/android\" rel=\"nofollow\">Twitter for Android</a>', 'in_reply_to_status_id': None, 'in_reply_to_status_id_str': None, 'in_reply_to_user_id': 818876014390603776, 'in_reply_to_user_id_str': '818876014390603776', 'in_reply_to_screen_name': 'FLOTUS45', 'user': {'id': 156398515, 'id_str': '156398515', 'name': 'Gastrofreak', 'screen_name': 'shelterhat', 'location': 'Oklahoma City, OK ', 'description': '', 'url': None, 'entities': {'description': {'urls': []}}, 'protected': False, 'followers_count': 370, 'friends_count': 768, 'listed_count': 1, 'created_at': 'Wed Jun 16 21:08:40 +0000 2010', 'favourites_count': 9057, 'utc_offset': None, 'time_zone': None, 'geo_enabled': True, 'verified': False, 'statuses_count': 2732, 'lang': None, 'contributors_enabled': False, 'is_translator': False, 'is_translation_enabled': False, 'profile_background_color': 'C0DEED', 'profile_background_image_url': 'http://abs.twimg.com/images/themes/theme1/bg.png', 'profile_background_image_url_https': 'https://abs.twimg.com/images/themes/theme1/bg.png', 'profile_background_tile': False, 'profile_image_url': 'http://pbs.twimg.com/profile_images/1105938421720252416/IlkUfRyG_normal.jpg', 'profile_image_url_https': 'https://pbs.twimg.com/profile_images/1105938421720252416/IlkUfRyG_normal.jpg', 'profile_banner_url': 'https://pbs.twimg.com/profile_banners/156398515/1552581457', 'profile_link_color': '1DA1F2', 'profile_sidebar_border_color': 'C0DEED', 'profile_sidebar_fill_color': 'DDEEF6', 'profile_text_color': '333333', 'profile_use_background_image': True, 'has_extended_profile': True, 'default_profile': True, 'default_profile_image': False, 'following': False, 'follow_request_sent': False, 'notifications': False, 'translator_type': 'none', 'withheld_in_countries': []}, 'geo': None, 'coordinates': None, 'place': None, 'contributors': None, 'is_quote_status': False, 'retweet_count': 0, 'favorite_count': 0, 'favorited': False, 'retweeted': False, 'possibly_sensitive': False, 'possibly_sensitive_appealable': False, 'lang': 'en'}, created_at=datetime.datetime(2018, 10, 15, 3, 10, 52, tzinfo=datetime.timezone.utc), id=1051671723647660032, id_str='1051671723647660032', text='@FLOTUS &amp; @realDonaldTrump meh answers on their #marriage \\n#news #NationalDessertDay #Trump #Khashoggi… https://t.co/y6dAR6CXjp', truncated=True, entities={'hashtags': [{'text': 'marriage', 'indices': [52, 61]}, {'text': 'news', 'indices': [63, 68]}, {'text': 'NationalDessertDay', 'indices': [69, 88]}, {'text': 'Trump', 'indices': [89, 95]}, {'text': 'Khashoggi', 'indices': [96, 106]}], 'symbols': [], 'user_mentions': [{'screen_name': 'FLOTUS', 'name': 'Jill Biden', 'id': 1349154719386775552, 'id_str': '1349154719386775552', 'indices': [0, 7]}, {'screen_name': 'realDonaldTrump', 'name': 'Donald J. Trump', 'id': 25073877, 'id_str': '25073877', 'indices': [14, 30]}], 'urls': [{'url': 'https://t.co/y6dAR6CXjp', 'expanded_url': 'https://twitter.com/i/web/status/1051671723647660032', 'display_url': 'twitter.com/i/web/status/1…', 'indices': [108, 131]}]}, source='Twitter for Android', source_url='http://twitter.com/download/android', in_reply_to_status_id=None, in_reply_to_status_id_str=None, in_reply_to_user_id=818876014390603776, in_reply_to_user_id_str='818876014390603776', in_reply_to_screen_name='FLOTUS45', author=User(_api=<tweepy.api.API object at 0x0000003F82E0E160>, _json={'id': 156398515, 'id_str': '156398515', 'name': 'Gastrofreak', 'screen_name': 'shelterhat', 'location': 'Oklahoma City, OK ', 'description': '', 'url': None, 'entities': {'description': {'urls': []}}, 'protected': False, 'followers_count': 370, 'friends_count': 768, 'listed_count': 1, 'created_at': 'Wed Jun 16 21:08:40 +0000 2010', 'favourites_count': 9057, 'utc_offset': None, 'time_zone': None, 'geo_enabled': True, 'verified': False, 'statuses_count': 2732, 'lang': None, 'contributors_enabled': False, 'is_translator': False, 'is_translation_enabled': False, 'profile_background_color': 'C0DEED', 'profile_background_image_url': 'http://abs.twimg.com/images/themes/theme1/bg.png', 'profile_background_image_url_https': 'https://abs.twimg.com/images/themes/theme1/bg.png', 'profile_background_tile': False, 'profile_image_url': 'http://pbs.twimg.com/profile_images/1105938421720252416/IlkUfRyG_normal.jpg', 'profile_image_url_https': 'https://pbs.twimg.com/profile_images/1105938421720252416/IlkUfRyG_normal.jpg', 'profile_banner_url': 'https://pbs.twimg.com/profile_banners/156398515/1552581457', 'profile_link_color': '1DA1F2', 'profile_sidebar_border_color': 'C0DEED', 'profile_sidebar_fill_color': 'DDEEF6', 'profile_text_color': '333333', 'profile_use_background_image': True, 'has_extended_profile': True, 'default_profile': True, 'default_profile_image': False, 'following': False, 'follow_request_sent': False, 'notifications': False, 'translator_type': 'none', 'withheld_in_countries': []}, id=156398515, id_str='156398515', name='Gastrofreak', screen_name='shelterhat', location='Oklahoma City, OK ', description='', url=None, entities={'description': {'urls': []}}, protected=False, followers_count=370, friends_count=768, listed_count=1, created_at=datetime.datetime(2010, 6, 16, 21, 8, 40, tzinfo=datetime.timezone.utc), favourites_count=9057, utc_offset=None, time_zone=None, geo_enabled=True, verified=False, statuses_count=2732, lang=None, contributors_enabled=False, is_translator=False, is_translation_enabled=False, profile_background_color='C0DEED', profile_background_image_url='http://abs.twimg.com/images/themes/theme1/bg.png', profile_background_image_url_https='https://abs.twimg.com/images/themes/theme1/bg.png', profile_background_tile=False, profile_image_url='http://pbs.twimg.com/profile_images/1105938421720252416/IlkUfRyG_normal.jpg', profile_image_url_https='https://pbs.twimg.com/profile_images/1105938421720252416/IlkUfRyG_normal.jpg', profile_banner_url='https://pbs.twimg.com/profile_banners/156398515/1552581457', profile_link_color='1DA1F2', profile_sidebar_border_color='C0DEED', profile_sidebar_fill_color='DDEEF6', profile_text_color='333333', profile_use_background_image=True, has_extended_profile=True, default_profile=True, default_profile_image=False, following=False, follow_request_sent=False, notifications=False, translator_type='none', withheld_in_countries=[]), user=User(_api=<tweepy.api.API object at 0x0000003F82E0E160>, _json={'id': 156398515, 'id_str': '156398515', 'name': 'Gastrofreak', 'screen_name': 'shelterhat', 'location': 'Oklahoma City, OK ', 'description': '', 'url': None, 'entities': {'description': {'urls': []}}, 'protected': False, 'followers_count': 370, 'friends_count': 768, 'listed_count': 1, 'created_at': 'Wed Jun 16 21:08:40 +0000 2010', 'favourites_count': 9057, 'utc_offset': None, 'time_zone': None, 'geo_enabled': True, 'verified': False, 'statuses_count': 2732, 'lang': None, 'contributors_enabled': False, 'is_translator': False, 'is_translation_enabled': False, 'profile_background_color': 'C0DEED', 'profile_background_image_url': 'http://abs.twimg.com/images/themes/theme1/bg.png', 'profile_background_image_url_https': 'https://abs.twimg.com/images/themes/theme1/bg.png', 'profile_background_tile': False, 'profile_image_url': 'http://pbs.twimg.com/profile_images/1105938421720252416/IlkUfRyG_normal.jpg', 'profile_image_url_https': 'https://pbs.twimg.com/profile_images/1105938421720252416/IlkUfRyG_normal.jpg', 'profile_banner_url': 'https://pbs.twimg.com/profile_banners/156398515/1552581457', 'profile_link_color': '1DA1F2', 'profile_sidebar_border_color': 'C0DEED', 'profile_sidebar_fill_color': 'DDEEF6', 'profile_text_color': '333333', 'profile_use_background_image': True, 'has_extended_profile': True, 'default_profile': True, 'default_profile_image': False, 'following': False, 'follow_request_sent': False, 'notifications': False, 'translator_type': 'none', 'withheld_in_countries': []}, id=156398515, id_str='156398515', name='Gastrofreak', screen_name='shelterhat', location='Oklahoma City, OK ', description='', url=None, entities={'description': {'urls': []}}, protected=False, followers_count=370, friends_count=768, listed_count=1, created_at=datetime.datetime(2010, 6, 16, 21, 8, 40, tzinfo=datetime.timezone.utc), favourites_count=9057, utc_offset=None, time_zone=None, geo_enabled=True, verified=False, statuses_count=2732, lang=None, contributors_enabled=False, is_translator=False, is_translation_enabled=False, profile_background_color='C0DEED', profile_background_image_url='http://abs.twimg.com/images/themes/theme1/bg.png', profile_background_image_url_https='https://abs.twimg.com/images/themes/theme1/bg.png', profile_background_tile=False, profile_image_url='http://pbs.twimg.com/profile_images/1105938421720252416/IlkUfRyG_normal.jpg', profile_image_url_https='https://pbs.twimg.com/profile_images/1105938421720252416/IlkUfRyG_normal.jpg', profile_banner_url='https://pbs.twimg.com/profile_banners/156398515/1552581457', profile_link_color='1DA1F2', profile_sidebar_border_color='C0DEED', profile_sidebar_fill_color='DDEEF6', profile_text_color='333333', profile_use_background_image=True, has_extended_profile=True, default_profile=True, default_profile_image=False, following=False, follow_request_sent=False, notifications=False, translator_type='none', withheld_in_countries=[]), geo=None, coordinates=None, place=None, contributors=None, is_quote_status=False, retweet_count=0, favorite_count=0, favorited=False, retweeted=False, possibly_sensitive=False, possibly_sensitive_appealable=False, lang='en')\n",
      "Status(_api=<tweepy.api.API object at 0x0000003F82C11D60>, _json={'created_at': 'Sun Oct 14 04:52:22 +0000 2018', 'id': 1051334879273730048, 'id_str': '1051334879273730048', 'text': \"Times Have Changed. There's A New Sheriff In Town Name #MeToo. https://t.co/g5KgvjGdbb\", 'truncated': False, 'entities': {'hashtags': [{'text': 'MeToo', 'indices': [55, 61]}], 'symbols': [], 'user_mentions': [], 'urls': [], 'media': [{'id': 1051334877264654339, 'id_str': '1051334877264654339', 'indices': [63, 86], 'media_url': 'http://pbs.twimg.com/media/DpcXgCtWsAM_KS0.png', 'media_url_https': 'https://pbs.twimg.com/media/DpcXgCtWsAM_KS0.png', 'url': 'https://t.co/g5KgvjGdbb', 'display_url': 'pic.twitter.com/g5KgvjGdbb', 'expanded_url': 'https://twitter.com/TomthunkitsMind/status/1051334879273730048/photo/1', 'type': 'photo', 'sizes': {'small': {'w': 600, 'h': 451, 'resize': 'fit'}, 'large': {'w': 600, 'h': 451, 'resize': 'fit'}, 'thumb': {'w': 150, 'h': 150, 'resize': 'crop'}, 'medium': {'w': 600, 'h': 451, 'resize': 'fit'}}}]}, 'extended_entities': {'media': [{'id': 1051334877264654339, 'id_str': '1051334877264654339', 'indices': [63, 86], 'media_url': 'http://pbs.twimg.com/media/DpcXgCtWsAM_KS0.png', 'media_url_https': 'https://pbs.twimg.com/media/DpcXgCtWsAM_KS0.png', 'url': 'https://t.co/g5KgvjGdbb', 'display_url': 'pic.twitter.com/g5KgvjGdbb', 'expanded_url': 'https://twitter.com/TomthunkitsMind/status/1051334879273730048/photo/1', 'type': 'photo', 'sizes': {'small': {'w': 600, 'h': 451, 'resize': 'fit'}, 'large': {'w': 600, 'h': 451, 'resize': 'fit'}, 'thumb': {'w': 150, 'h': 150, 'resize': 'crop'}, 'medium': {'w': 600, 'h': 451, 'resize': 'fit'}}}]}, 'source': '<a href=\"https://www.socialjukebox.com\" rel=\"nofollow\">The Social Jukebox</a>', 'in_reply_to_status_id': None, 'in_reply_to_status_id_str': None, 'in_reply_to_user_id': None, 'in_reply_to_user_id_str': None, 'in_reply_to_screen_name': None, 'user': {'id': 289118612, 'id_str': '289118612', 'name': 'Tomthunkit™', 'screen_name': 'TomthunkitsMind', 'location': 'In Your Mind Now', 'description': \"Tomthunkit's Mind Diner is open 24/7. All-you-can-eat smorgasbord of hand-picked deliciously sweet tweets for your political palate. Invest ($) in your future\", 'url': 'https://t.co/IA9rmbFPNj', 'entities': {'url': {'urls': [{'url': 'https://t.co/IA9rmbFPNj', 'expanded_url': 'http://gofundme.com/260th5qnpc', 'display_url': 'gofundme.com/260th5qnpc', 'indices': [0, 23]}]}, 'description': {'urls': []}}, 'protected': False, 'followers_count': 90313, 'friends_count': 71420, 'listed_count': 973, 'created_at': 'Thu Apr 28 01:56:15 +0000 2011', 'favourites_count': 29947, 'utc_offset': None, 'time_zone': None, 'geo_enabled': True, 'verified': False, 'statuses_count': 3169555, 'lang': None, 'contributors_enabled': False, 'is_translator': False, 'is_translation_enabled': False, 'profile_background_color': 'FFFFFF', 'profile_background_image_url': 'http://abs.twimg.com/images/themes/theme12/bg.gif', 'profile_background_image_url_https': 'https://abs.twimg.com/images/themes/theme12/bg.gif', 'profile_background_tile': True, 'profile_image_url': 'http://pbs.twimg.com/profile_images/1432506031633018885/9OiUrioG_normal.jpg', 'profile_image_url_https': 'https://pbs.twimg.com/profile_images/1432506031633018885/9OiUrioG_normal.jpg', 'profile_banner_url': 'https://pbs.twimg.com/profile_banners/289118612/1611463502', 'profile_link_color': 'FF691F', 'profile_sidebar_border_color': 'F2E195', 'profile_sidebar_fill_color': 'FFF7CC', 'profile_text_color': '0C3E53', 'profile_use_background_image': True, 'has_extended_profile': True, 'default_profile': False, 'default_profile_image': False, 'following': False, 'follow_request_sent': False, 'notifications': False, 'translator_type': 'none', 'withheld_in_countries': []}, 'geo': None, 'coordinates': None, 'place': None, 'contributors': None, 'is_quote_status': False, 'retweet_count': 3, 'favorite_count': 5, 'favorited': False, 'retweeted': False, 'possibly_sensitive': False, 'possibly_sensitive_appealable': False, 'lang': 'en'}, created_at=datetime.datetime(2018, 10, 14, 4, 52, 22, tzinfo=datetime.timezone.utc), id=1051334879273730048, id_str='1051334879273730048', text=\"Times Have Changed. There's A New Sheriff In Town Name #MeToo. https://t.co/g5KgvjGdbb\", truncated=False, entities={'hashtags': [{'text': 'MeToo', 'indices': [55, 61]}], 'symbols': [], 'user_mentions': [], 'urls': [], 'media': [{'id': 1051334877264654339, 'id_str': '1051334877264654339', 'indices': [63, 86], 'media_url': 'http://pbs.twimg.com/media/DpcXgCtWsAM_KS0.png', 'media_url_https': 'https://pbs.twimg.com/media/DpcXgCtWsAM_KS0.png', 'url': 'https://t.co/g5KgvjGdbb', 'display_url': 'pic.twitter.com/g5KgvjGdbb', 'expanded_url': 'https://twitter.com/TomthunkitsMind/status/1051334879273730048/photo/1', 'type': 'photo', 'sizes': {'small': {'w': 600, 'h': 451, 'resize': 'fit'}, 'large': {'w': 600, 'h': 451, 'resize': 'fit'}, 'thumb': {'w': 150, 'h': 150, 'resize': 'crop'}, 'medium': {'w': 600, 'h': 451, 'resize': 'fit'}}}]}, extended_entities={'media': [{'id': 1051334877264654339, 'id_str': '1051334877264654339', 'indices': [63, 86], 'media_url': 'http://pbs.twimg.com/media/DpcXgCtWsAM_KS0.png', 'media_url_https': 'https://pbs.twimg.com/media/DpcXgCtWsAM_KS0.png', 'url': 'https://t.co/g5KgvjGdbb', 'display_url': 'pic.twitter.com/g5KgvjGdbb', 'expanded_url': 'https://twitter.com/TomthunkitsMind/status/1051334879273730048/photo/1', 'type': 'photo', 'sizes': {'small': {'w': 600, 'h': 451, 'resize': 'fit'}, 'large': {'w': 600, 'h': 451, 'resize': 'fit'}, 'thumb': {'w': 150, 'h': 150, 'resize': 'crop'}, 'medium': {'w': 600, 'h': 451, 'resize': 'fit'}}}]}, source='The Social Jukebox', source_url='https://www.socialjukebox.com', in_reply_to_status_id=None, in_reply_to_status_id_str=None, in_reply_to_user_id=None, in_reply_to_user_id_str=None, in_reply_to_screen_name=None, author=User(_api=<tweepy.api.API object at 0x0000003F82C11D60>, _json={'id': 289118612, 'id_str': '289118612', 'name': 'Tomthunkit™', 'screen_name': 'TomthunkitsMind', 'location': 'In Your Mind Now', 'description': \"Tomthunkit's Mind Diner is open 24/7. All-you-can-eat smorgasbord of hand-picked deliciously sweet tweets for your political palate. Invest ($) in your future\", 'url': 'https://t.co/IA9rmbFPNj', 'entities': {'url': {'urls': [{'url': 'https://t.co/IA9rmbFPNj', 'expanded_url': 'http://gofundme.com/260th5qnpc', 'display_url': 'gofundme.com/260th5qnpc', 'indices': [0, 23]}]}, 'description': {'urls': []}}, 'protected': False, 'followers_count': 90313, 'friends_count': 71420, 'listed_count': 973, 'created_at': 'Thu Apr 28 01:56:15 +0000 2011', 'favourites_count': 29947, 'utc_offset': None, 'time_zone': None, 'geo_enabled': True, 'verified': False, 'statuses_count': 3169555, 'lang': None, 'contributors_enabled': False, 'is_translator': False, 'is_translation_enabled': False, 'profile_background_color': 'FFFFFF', 'profile_background_image_url': 'http://abs.twimg.com/images/themes/theme12/bg.gif', 'profile_background_image_url_https': 'https://abs.twimg.com/images/themes/theme12/bg.gif', 'profile_background_tile': True, 'profile_image_url': 'http://pbs.twimg.com/profile_images/1432506031633018885/9OiUrioG_normal.jpg', 'profile_image_url_https': 'https://pbs.twimg.com/profile_images/1432506031633018885/9OiUrioG_normal.jpg', 'profile_banner_url': 'https://pbs.twimg.com/profile_banners/289118612/1611463502', 'profile_link_color': 'FF691F', 'profile_sidebar_border_color': 'F2E195', 'profile_sidebar_fill_color': 'FFF7CC', 'profile_text_color': '0C3E53', 'profile_use_background_image': True, 'has_extended_profile': True, 'default_profile': False, 'default_profile_image': False, 'following': False, 'follow_request_sent': False, 'notifications': False, 'translator_type': 'none', 'withheld_in_countries': []}, id=289118612, id_str='289118612', name='Tomthunkit™', screen_name='TomthunkitsMind', location='In Your Mind Now', description=\"Tomthunkit's Mind Diner is open 24/7. All-you-can-eat smorgasbord of hand-picked deliciously sweet tweets for your political palate. Invest ($) in your future\", url='https://t.co/IA9rmbFPNj', entities={'url': {'urls': [{'url': 'https://t.co/IA9rmbFPNj', 'expanded_url': 'http://gofundme.com/260th5qnpc', 'display_url': 'gofundme.com/260th5qnpc', 'indices': [0, 23]}]}, 'description': {'urls': []}}, protected=False, followers_count=90313, friends_count=71420, listed_count=973, created_at=datetime.datetime(2011, 4, 28, 1, 56, 15, tzinfo=datetime.timezone.utc), favourites_count=29947, utc_offset=None, time_zone=None, geo_enabled=True, verified=False, statuses_count=3169555, lang=None, contributors_enabled=False, is_translator=False, is_translation_enabled=False, profile_background_color='FFFFFF', profile_background_image_url='http://abs.twimg.com/images/themes/theme12/bg.gif', profile_background_image_url_https='https://abs.twimg.com/images/themes/theme12/bg.gif', profile_background_tile=True, profile_image_url='http://pbs.twimg.com/profile_images/1432506031633018885/9OiUrioG_normal.jpg', profile_image_url_https='https://pbs.twimg.com/profile_images/1432506031633018885/9OiUrioG_normal.jpg', profile_banner_url='https://pbs.twimg.com/profile_banners/289118612/1611463502', profile_link_color='FF691F', profile_sidebar_border_color='F2E195', profile_sidebar_fill_color='FFF7CC', profile_text_color='0C3E53', profile_use_background_image=True, has_extended_profile=True, default_profile=False, default_profile_image=False, following=False, follow_request_sent=False, notifications=False, translator_type='none', withheld_in_countries=[]), user=User(_api=<tweepy.api.API object at 0x0000003F82C11D60>, _json={'id': 289118612, 'id_str': '289118612', 'name': 'Tomthunkit™', 'screen_name': 'TomthunkitsMind', 'location': 'In Your Mind Now', 'description': \"Tomthunkit's Mind Diner is open 24/7. All-you-can-eat smorgasbord of hand-picked deliciously sweet tweets for your political palate. Invest ($) in your future\", 'url': 'https://t.co/IA9rmbFPNj', 'entities': {'url': {'urls': [{'url': 'https://t.co/IA9rmbFPNj', 'expanded_url': 'http://gofundme.com/260th5qnpc', 'display_url': 'gofundme.com/260th5qnpc', 'indices': [0, 23]}]}, 'description': {'urls': []}}, 'protected': False, 'followers_count': 90313, 'friends_count': 71420, 'listed_count': 973, 'created_at': 'Thu Apr 28 01:56:15 +0000 2011', 'favourites_count': 29947, 'utc_offset': None, 'time_zone': None, 'geo_enabled': True, 'verified': False, 'statuses_count': 3169555, 'lang': None, 'contributors_enabled': False, 'is_translator': False, 'is_translation_enabled': False, 'profile_background_color': 'FFFFFF', 'profile_background_image_url': 'http://abs.twimg.com/images/themes/theme12/bg.gif', 'profile_background_image_url_https': 'https://abs.twimg.com/images/themes/theme12/bg.gif', 'profile_background_tile': True, 'profile_image_url': 'http://pbs.twimg.com/profile_images/1432506031633018885/9OiUrioG_normal.jpg', 'profile_image_url_https': 'https://pbs.twimg.com/profile_images/1432506031633018885/9OiUrioG_normal.jpg', 'profile_banner_url': 'https://pbs.twimg.com/profile_banners/289118612/1611463502', 'profile_link_color': 'FF691F', 'profile_sidebar_border_color': 'F2E195', 'profile_sidebar_fill_color': 'FFF7CC', 'profile_text_color': '0C3E53', 'profile_use_background_image': True, 'has_extended_profile': True, 'default_profile': False, 'default_profile_image': False, 'following': False, 'follow_request_sent': False, 'notifications': False, 'translator_type': 'none', 'withheld_in_countries': []}, id=289118612, id_str='289118612', name='Tomthunkit™', screen_name='TomthunkitsMind', location='In Your Mind Now', description=\"Tomthunkit's Mind Diner is open 24/7. All-you-can-eat smorgasbord of hand-picked deliciously sweet tweets for your political palate. Invest ($) in your future\", url='https://t.co/IA9rmbFPNj', entities={'url': {'urls': [{'url': 'https://t.co/IA9rmbFPNj', 'expanded_url': 'http://gofundme.com/260th5qnpc', 'display_url': 'gofundme.com/260th5qnpc', 'indices': [0, 23]}]}, 'description': {'urls': []}}, protected=False, followers_count=90313, friends_count=71420, listed_count=973, created_at=datetime.datetime(2011, 4, 28, 1, 56, 15, tzinfo=datetime.timezone.utc), favourites_count=29947, utc_offset=None, time_zone=None, geo_enabled=True, verified=False, statuses_count=3169555, lang=None, contributors_enabled=False, is_translator=False, is_translation_enabled=False, profile_background_color='FFFFFF', profile_background_image_url='http://abs.twimg.com/images/themes/theme12/bg.gif', profile_background_image_url_https='https://abs.twimg.com/images/themes/theme12/bg.gif', profile_background_tile=True, profile_image_url='http://pbs.twimg.com/profile_images/1432506031633018885/9OiUrioG_normal.jpg', profile_image_url_https='https://pbs.twimg.com/profile_images/1432506031633018885/9OiUrioG_normal.jpg', profile_banner_url='https://pbs.twimg.com/profile_banners/289118612/1611463502', profile_link_color='FF691F', profile_sidebar_border_color='F2E195', profile_sidebar_fill_color='FFF7CC', profile_text_color='0C3E53', profile_use_background_image=True, has_extended_profile=True, default_profile=False, default_profile_image=False, following=False, follow_request_sent=False, notifications=False, translator_type='none', withheld_in_countries=[]), geo=None, coordinates=None, place=None, contributors=None, is_quote_status=False, retweet_count=3, favorite_count=5, favorited=False, retweeted=False, possibly_sensitive=False, possibly_sensitive_appealable=False, lang='en')\n",
      "Status(_api=<tweepy.api.API object at 0x0000003F82E0E670>, _json={'created_at': 'Sat Oct 13 23:34:14 +0000 2018', 'id': 1051254818893910016, 'id_str': '1051254818893910016', 'text': 'Melania Trump Says She Supports Men Against #MeToo Allegations https://t.co/3LhmpNU5h6 #metoo #melaniatrump https://t.co/oLMi2nasZV', 'truncated': False, 'entities': {'hashtags': [{'text': 'MeToo', 'indices': [44, 50]}, {'text': 'metoo', 'indices': [87, 93]}, {'text': 'melaniatrump', 'indices': [94, 107]}], 'symbols': [], 'user_mentions': [], 'urls': [{'url': 'https://t.co/3LhmpNU5h6', 'expanded_url': 'http://rviv.ly/CPSim4', 'display_url': 'rviv.ly/CPSim4', 'indices': [63, 86]}], 'media': [{'id': 1051254815408496645, 'id_str': '1051254815408496645', 'indices': [108, 131], 'media_url': 'http://pbs.twimg.com/media/DpbOr1DXoAU3cee.jpg', 'media_url_https': 'https://pbs.twimg.com/media/DpbOr1DXoAU3cee.jpg', 'url': 'https://t.co/oLMi2nasZV', 'display_url': 'pic.twitter.com/oLMi2nasZV', 'expanded_url': 'https://twitter.com/CDNnow/status/1051254818893910016/photo/1', 'type': 'photo', 'sizes': {'thumb': {'w': 150, 'h': 150, 'resize': 'crop'}, 'medium': {'w': 443, 'h': 271, 'resize': 'fit'}, 'small': {'w': 443, 'h': 271, 'resize': 'fit'}, 'large': {'w': 443, 'h': 271, 'resize': 'fit'}}}]}, 'extended_entities': {'media': [{'id': 1051254815408496645, 'id_str': '1051254815408496645', 'indices': [108, 131], 'media_url': 'http://pbs.twimg.com/media/DpbOr1DXoAU3cee.jpg', 'media_url_https': 'https://pbs.twimg.com/media/DpbOr1DXoAU3cee.jpg', 'url': 'https://t.co/oLMi2nasZV', 'display_url': 'pic.twitter.com/oLMi2nasZV', 'expanded_url': 'https://twitter.com/CDNnow/status/1051254818893910016/photo/1', 'type': 'photo', 'sizes': {'thumb': {'w': 150, 'h': 150, 'resize': 'crop'}, 'medium': {'w': 443, 'h': 271, 'resize': 'fit'}, 'small': {'w': 443, 'h': 271, 'resize': 'fit'}, 'large': {'w': 443, 'h': 271, 'resize': 'fit'}}}]}, 'source': '<a href=\"http://www.ajaymatharu.com/\" rel=\"nofollow\">Tweet Old Post</a>', 'in_reply_to_status_id': None, 'in_reply_to_status_id_str': None, 'in_reply_to_user_id': None, 'in_reply_to_user_id_str': None, 'in_reply_to_screen_name': None, 'user': {'id': 74945157, 'id_str': '74945157', 'name': 'Conservative Daily News', 'screen_name': 'CDNnow', 'location': 'USA', 'description': 'Official account for https://t.co/neW2gcBNUJ - Where Americans Go For News -  #Conservative #military #veteran owned  #tcot #2A', 'url': 'https://t.co/RnOmwDUpBF', 'entities': {'url': {'urls': [{'url': 'https://t.co/RnOmwDUpBF', 'expanded_url': 'https://www.ConservativeDailyNews.com', 'display_url': 'ConservativeDailyNews.com', 'indices': [0, 23]}]}, 'description': {'urls': [{'url': 'https://t.co/neW2gcBNUJ', 'expanded_url': 'http://ConservativeDailyNews.com', 'display_url': 'ConservativeDailyNews.com', 'indices': [21, 44]}]}}, 'protected': False, 'followers_count': 6628, 'friends_count': 2004, 'listed_count': 267, 'created_at': 'Thu Sep 17 05:52:48 +0000 2009', 'favourites_count': 977, 'utc_offset': None, 'time_zone': None, 'geo_enabled': False, 'verified': False, 'statuses_count': 224716, 'lang': None, 'contributors_enabled': False, 'is_translator': False, 'is_translation_enabled': False, 'profile_background_color': '022330', 'profile_background_image_url': 'http://abs.twimg.com/images/themes/theme15/bg.png', 'profile_background_image_url_https': 'https://abs.twimg.com/images/themes/theme15/bg.png', 'profile_background_tile': False, 'profile_image_url': 'http://pbs.twimg.com/profile_images/1401759172224589824/Z2HqxOmU_normal.jpg', 'profile_image_url_https': 'https://pbs.twimg.com/profile_images/1401759172224589824/Z2HqxOmU_normal.jpg', 'profile_banner_url': 'https://pbs.twimg.com/profile_banners/74945157/1437706238', 'profile_link_color': '0084B4', 'profile_sidebar_border_color': 'A8C7F7', 'profile_sidebar_fill_color': 'C0DFEC', 'profile_text_color': '333333', 'profile_use_background_image': True, 'has_extended_profile': True, 'default_profile': False, 'default_profile_image': False, 'following': False, 'follow_request_sent': False, 'notifications': False, 'translator_type': 'none', 'withheld_in_countries': []}, 'geo': None, 'coordinates': None, 'place': None, 'contributors': None, 'is_quote_status': False, 'retweet_count': 0, 'favorite_count': 0, 'favorited': False, 'retweeted': False, 'possibly_sensitive': False, 'possibly_sensitive_appealable': False, 'lang': 'en'}, created_at=datetime.datetime(2018, 10, 13, 23, 34, 14, tzinfo=datetime.timezone.utc), id=1051254818893910016, id_str='1051254818893910016', text='Melania Trump Says She Supports Men Against #MeToo Allegations https://t.co/3LhmpNU5h6 #metoo #melaniatrump https://t.co/oLMi2nasZV', truncated=False, entities={'hashtags': [{'text': 'MeToo', 'indices': [44, 50]}, {'text': 'metoo', 'indices': [87, 93]}, {'text': 'melaniatrump', 'indices': [94, 107]}], 'symbols': [], 'user_mentions': [], 'urls': [{'url': 'https://t.co/3LhmpNU5h6', 'expanded_url': 'http://rviv.ly/CPSim4', 'display_url': 'rviv.ly/CPSim4', 'indices': [63, 86]}], 'media': [{'id': 1051254815408496645, 'id_str': '1051254815408496645', 'indices': [108, 131], 'media_url': 'http://pbs.twimg.com/media/DpbOr1DXoAU3cee.jpg', 'media_url_https': 'https://pbs.twimg.com/media/DpbOr1DXoAU3cee.jpg', 'url': 'https://t.co/oLMi2nasZV', 'display_url': 'pic.twitter.com/oLMi2nasZV', 'expanded_url': 'https://twitter.com/CDNnow/status/1051254818893910016/photo/1', 'type': 'photo', 'sizes': {'thumb': {'w': 150, 'h': 150, 'resize': 'crop'}, 'medium': {'w': 443, 'h': 271, 'resize': 'fit'}, 'small': {'w': 443, 'h': 271, 'resize': 'fit'}, 'large': {'w': 443, 'h': 271, 'resize': 'fit'}}}]}, extended_entities={'media': [{'id': 1051254815408496645, 'id_str': '1051254815408496645', 'indices': [108, 131], 'media_url': 'http://pbs.twimg.com/media/DpbOr1DXoAU3cee.jpg', 'media_url_https': 'https://pbs.twimg.com/media/DpbOr1DXoAU3cee.jpg', 'url': 'https://t.co/oLMi2nasZV', 'display_url': 'pic.twitter.com/oLMi2nasZV', 'expanded_url': 'https://twitter.com/CDNnow/status/1051254818893910016/photo/1', 'type': 'photo', 'sizes': {'thumb': {'w': 150, 'h': 150, 'resize': 'crop'}, 'medium': {'w': 443, 'h': 271, 'resize': 'fit'}, 'small': {'w': 443, 'h': 271, 'resize': 'fit'}, 'large': {'w': 443, 'h': 271, 'resize': 'fit'}}}]}, source='Tweet Old Post', source_url='http://www.ajaymatharu.com/', in_reply_to_status_id=None, in_reply_to_status_id_str=None, in_reply_to_user_id=None, in_reply_to_user_id_str=None, in_reply_to_screen_name=None, author=User(_api=<tweepy.api.API object at 0x0000003F82E0E670>, _json={'id': 74945157, 'id_str': '74945157', 'name': 'Conservative Daily News', 'screen_name': 'CDNnow', 'location': 'USA', 'description': 'Official account for https://t.co/neW2gcBNUJ - Where Americans Go For News -  #Conservative #military #veteran owned  #tcot #2A', 'url': 'https://t.co/RnOmwDUpBF', 'entities': {'url': {'urls': [{'url': 'https://t.co/RnOmwDUpBF', 'expanded_url': 'https://www.ConservativeDailyNews.com', 'display_url': 'ConservativeDailyNews.com', 'indices': [0, 23]}]}, 'description': {'urls': [{'url': 'https://t.co/neW2gcBNUJ', 'expanded_url': 'http://ConservativeDailyNews.com', 'display_url': 'ConservativeDailyNews.com', 'indices': [21, 44]}]}}, 'protected': False, 'followers_count': 6628, 'friends_count': 2004, 'listed_count': 267, 'created_at': 'Thu Sep 17 05:52:48 +0000 2009', 'favourites_count': 977, 'utc_offset': None, 'time_zone': None, 'geo_enabled': False, 'verified': False, 'statuses_count': 224716, 'lang': None, 'contributors_enabled': False, 'is_translator': False, 'is_translation_enabled': False, 'profile_background_color': '022330', 'profile_background_image_url': 'http://abs.twimg.com/images/themes/theme15/bg.png', 'profile_background_image_url_https': 'https://abs.twimg.com/images/themes/theme15/bg.png', 'profile_background_tile': False, 'profile_image_url': 'http://pbs.twimg.com/profile_images/1401759172224589824/Z2HqxOmU_normal.jpg', 'profile_image_url_https': 'https://pbs.twimg.com/profile_images/1401759172224589824/Z2HqxOmU_normal.jpg', 'profile_banner_url': 'https://pbs.twimg.com/profile_banners/74945157/1437706238', 'profile_link_color': '0084B4', 'profile_sidebar_border_color': 'A8C7F7', 'profile_sidebar_fill_color': 'C0DFEC', 'profile_text_color': '333333', 'profile_use_background_image': True, 'has_extended_profile': True, 'default_profile': False, 'default_profile_image': False, 'following': False, 'follow_request_sent': False, 'notifications': False, 'translator_type': 'none', 'withheld_in_countries': []}, id=74945157, id_str='74945157', name='Conservative Daily News', screen_name='CDNnow', location='USA', description='Official account for https://t.co/neW2gcBNUJ - Where Americans Go For News -  #Conservative #military #veteran owned  #tcot #2A', url='https://t.co/RnOmwDUpBF', entities={'url': {'urls': [{'url': 'https://t.co/RnOmwDUpBF', 'expanded_url': 'https://www.ConservativeDailyNews.com', 'display_url': 'ConservativeDailyNews.com', 'indices': [0, 23]}]}, 'description': {'urls': [{'url': 'https://t.co/neW2gcBNUJ', 'expanded_url': 'http://ConservativeDailyNews.com', 'display_url': 'ConservativeDailyNews.com', 'indices': [21, 44]}]}}, protected=False, followers_count=6628, friends_count=2004, listed_count=267, created_at=datetime.datetime(2009, 9, 17, 5, 52, 48, tzinfo=datetime.timezone.utc), favourites_count=977, utc_offset=None, time_zone=None, geo_enabled=False, verified=False, statuses_count=224716, lang=None, contributors_enabled=False, is_translator=False, is_translation_enabled=False, profile_background_color='022330', profile_background_image_url='http://abs.twimg.com/images/themes/theme15/bg.png', profile_background_image_url_https='https://abs.twimg.com/images/themes/theme15/bg.png', profile_background_tile=False, profile_image_url='http://pbs.twimg.com/profile_images/1401759172224589824/Z2HqxOmU_normal.jpg', profile_image_url_https='https://pbs.twimg.com/profile_images/1401759172224589824/Z2HqxOmU_normal.jpg', profile_banner_url='https://pbs.twimg.com/profile_banners/74945157/1437706238', profile_link_color='0084B4', profile_sidebar_border_color='A8C7F7', profile_sidebar_fill_color='C0DFEC', profile_text_color='333333', profile_use_background_image=True, has_extended_profile=True, default_profile=False, default_profile_image=False, following=False, follow_request_sent=False, notifications=False, translator_type='none', withheld_in_countries=[]), user=User(_api=<tweepy.api.API object at 0x0000003F82E0E670>, _json={'id': 74945157, 'id_str': '74945157', 'name': 'Conservative Daily News', 'screen_name': 'CDNnow', 'location': 'USA', 'description': 'Official account for https://t.co/neW2gcBNUJ - Where Americans Go For News -  #Conservative #military #veteran owned  #tcot #2A', 'url': 'https://t.co/RnOmwDUpBF', 'entities': {'url': {'urls': [{'url': 'https://t.co/RnOmwDUpBF', 'expanded_url': 'https://www.ConservativeDailyNews.com', 'display_url': 'ConservativeDailyNews.com', 'indices': [0, 23]}]}, 'description': {'urls': [{'url': 'https://t.co/neW2gcBNUJ', 'expanded_url': 'http://ConservativeDailyNews.com', 'display_url': 'ConservativeDailyNews.com', 'indices': [21, 44]}]}}, 'protected': False, 'followers_count': 6628, 'friends_count': 2004, 'listed_count': 267, 'created_at': 'Thu Sep 17 05:52:48 +0000 2009', 'favourites_count': 977, 'utc_offset': None, 'time_zone': None, 'geo_enabled': False, 'verified': False, 'statuses_count': 224716, 'lang': None, 'contributors_enabled': False, 'is_translator': False, 'is_translation_enabled': False, 'profile_background_color': '022330', 'profile_background_image_url': 'http://abs.twimg.com/images/themes/theme15/bg.png', 'profile_background_image_url_https': 'https://abs.twimg.com/images/themes/theme15/bg.png', 'profile_background_tile': False, 'profile_image_url': 'http://pbs.twimg.com/profile_images/1401759172224589824/Z2HqxOmU_normal.jpg', 'profile_image_url_https': 'https://pbs.twimg.com/profile_images/1401759172224589824/Z2HqxOmU_normal.jpg', 'profile_banner_url': 'https://pbs.twimg.com/profile_banners/74945157/1437706238', 'profile_link_color': '0084B4', 'profile_sidebar_border_color': 'A8C7F7', 'profile_sidebar_fill_color': 'C0DFEC', 'profile_text_color': '333333', 'profile_use_background_image': True, 'has_extended_profile': True, 'default_profile': False, 'default_profile_image': False, 'following': False, 'follow_request_sent': False, 'notifications': False, 'translator_type': 'none', 'withheld_in_countries': []}, id=74945157, id_str='74945157', name='Conservative Daily News', screen_name='CDNnow', location='USA', description='Official account for https://t.co/neW2gcBNUJ - Where Americans Go For News -  #Conservative #military #veteran owned  #tcot #2A', url='https://t.co/RnOmwDUpBF', entities={'url': {'urls': [{'url': 'https://t.co/RnOmwDUpBF', 'expanded_url': 'https://www.ConservativeDailyNews.com', 'display_url': 'ConservativeDailyNews.com', 'indices': [0, 23]}]}, 'description': {'urls': [{'url': 'https://t.co/neW2gcBNUJ', 'expanded_url': 'http://ConservativeDailyNews.com', 'display_url': 'ConservativeDailyNews.com', 'indices': [21, 44]}]}}, protected=False, followers_count=6628, friends_count=2004, listed_count=267, created_at=datetime.datetime(2009, 9, 17, 5, 52, 48, tzinfo=datetime.timezone.utc), favourites_count=977, utc_offset=None, time_zone=None, geo_enabled=False, verified=False, statuses_count=224716, lang=None, contributors_enabled=False, is_translator=False, is_translation_enabled=False, profile_background_color='022330', profile_background_image_url='http://abs.twimg.com/images/themes/theme15/bg.png', profile_background_image_url_https='https://abs.twimg.com/images/themes/theme15/bg.png', profile_background_tile=False, profile_image_url='http://pbs.twimg.com/profile_images/1401759172224589824/Z2HqxOmU_normal.jpg', profile_image_url_https='https://pbs.twimg.com/profile_images/1401759172224589824/Z2HqxOmU_normal.jpg', profile_banner_url='https://pbs.twimg.com/profile_banners/74945157/1437706238', profile_link_color='0084B4', profile_sidebar_border_color='A8C7F7', profile_sidebar_fill_color='C0DFEC', profile_text_color='333333', profile_use_background_image=True, has_extended_profile=True, default_profile=False, default_profile_image=False, following=False, follow_request_sent=False, notifications=False, translator_type='none', withheld_in_countries=[]), geo=None, coordinates=None, place=None, contributors=None, is_quote_status=False, retweet_count=0, favorite_count=0, favorited=False, retweeted=False, possibly_sensitive=False, possibly_sensitive_appealable=False, lang='en')\n"
     ]
    }
   ],
   "source": [
    "#adding user_id to the dataframe , if you want to perform on the whole dataset just replace data1 with data\n",
    "timestamp=[]\n",
    "unwanted_tweetid=[]\n",
    "tweet_id=[]\n",
    "user_id=[]\n",
    "user_name=[]\n",
    "for i in data2.tweet_id:\n",
    "    auth = tweepy.OAuthHandler(CONSUMER_KEY, CONSUMER_SECRET)\n",
    "    auth.set_access_token(OAUTH_TOKEN, OAUTH_TOKEN_SECRET)\n",
    "    api = tweepy.API(auth)\n",
    "    try:\n",
    "        \n",
    "    #tweet = twitter.show_status(id=i)\n",
    "        tweet = api.get_status(i)\n",
    "        print(tweet)\n",
    "        timestamp1=tweet.created_at\n",
    "        timestamp.append(timestamp1)\n",
    "        user_id1=tweet.user.id\n",
    "        user_id.append(user_id1)\n",
    "        user_name1=tweet.user.screen_name\n",
    "        user_name.append(user_name1)\n",
    "        tweet_idframefinal.loc[len(tweet_idframefinal.index)] = [i,timestamp1,user_id1,user_name1]\n",
    "    except:\n",
    "        print(\"Failed to run the command on that user, Skipping...\",i)\n",
    "        unwanted_tweetid.append(i)\n",
    "    \n",
    "    "
   ]
  }
 ],
 "metadata": {
  "kernelspec": {
   "display_name": "Python 3",
   "language": "python",
   "name": "python3"
  },
  "language_info": {
   "codemirror_mode": {
    "name": "ipython",
    "version": 3
   },
   "file_extension": ".py",
   "mimetype": "text/x-python",
   "name": "python",
   "nbconvert_exporter": "python",
   "pygments_lexer": "ipython3",
   "version": "3.8.8"
  }
 },
 "nbformat": 4,
 "nbformat_minor": 5
}
